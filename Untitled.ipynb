{
 "cells": [
  {
   "cell_type": "code",
   "execution_count": 1,
   "id": "5c8f331b-19df-41b0-9b0d-ac66c5524544",
   "metadata": {},
   "outputs": [],
   "source": [
    "## Importing the needed libraries\n",
    "import pandas as pd\n",
    "import numpy as np                            #python module to handle numerical and dimentionals array and matrices\n",
    "import matplotlib.pyplot as plt               # for plotting, to aid visualizaton\n",
    "import seaborn as sns                         # fro data visualisation aslo"
   ]
  },
  {
   "cell_type": "code",
   "execution_count": 3,
   "id": "3a6154a5-a3c7-4ebd-a090-b66d0329de96",
   "metadata": {},
   "outputs": [],
   "source": [
    "## Importing sklearn classes needed for linear regression\n",
    "from sklearn.linear_model import LinearRegression          # class to build a linear regression model\n",
    "from sklearn.metrics import mean_absolute_error            # used to calculate MAE\n",
    "from sklearn.preprocessing import MinMaxScaler             # used for normalising dataset into a common scale using Min and Max.\n",
    "from sklearn.model_selection import train_test_split       # used to  splitting dataset into training and testing during eda"
   ]
  },
  {
   "cell_type": "code",
   "execution_count": null,
   "id": "45963f3b-a4fa-43ed-9ef4-2d542daaadf0",
   "metadata": {},
   "outputs": [],
   "source": []
  }
 ],
 "metadata": {
  "kernelspec": {
   "display_name": "Python 3 (ipykernel)",
   "language": "python",
   "name": "python3"
  },
  "language_info": {
   "codemirror_mode": {
    "name": "ipython",
    "version": 3
   },
   "file_extension": ".py",
   "mimetype": "text/x-python",
   "name": "python",
   "nbconvert_exporter": "python",
   "pygments_lexer": "ipython3",
   "version": "3.11.5"
  }
 },
 "nbformat": 4,
 "nbformat_minor": 5
}
